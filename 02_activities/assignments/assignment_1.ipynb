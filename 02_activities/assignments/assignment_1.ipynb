{
 "cells": [
  {
   "cell_type": "markdown",
   "metadata": {},
   "source": [
    "# Working with parquet files\n",
    "\n",
    "## Objective\n",
    "\n",
    "+ In this assignment, we will use the data downloaded with the module `data_manager` to create features.\n",
    "\n",
    "(11 pts total)\n",
    "\n",
    "## Prerequisites\n",
    "\n",
    "+ This notebook assumes that price data is available to you in the environment variable `PRICE_DATA`. If you have not done so, then execute the notebook `production_2_data_engineering.ipynb` to create this data set.\n"
   ]
  },
  {
   "cell_type": "markdown",
   "metadata": {},
   "source": [
    "+ Load the environment variables using dotenv. (1 pt)"
   ]
  },
  {
   "cell_type": "code",
   "execution_count": null,
   "metadata": {},
   "outputs": [],
   "source": [
    "# Write your code below.\n",
    "%load_ext dotenv\n",
    "%dotenv \n",
    "\n"
   ]
  },
  {
   "cell_type": "code",
   "execution_count": null,
   "metadata": {},
   "outputs": [],
   "source": [
    "import dask\n",
    "dask.config.set({'dataframe.query-planning': True})\n",
    "import dask.dataframe as dd\n"
   ]
  },
  {
   "cell_type": "markdown",
   "metadata": {},
   "source": [
    "+ Load the environment variable `PRICE_DATA`.\n",
    "+ Use [glob](https://docs.python.org/3/library/glob.html) to find the path of all parquet files in the directory `PRICE_DATA`.\n",
    "\n",
    "(1pt)"
   ]
  },
  {
   "cell_type": "code",
   "execution_count": 12,
   "metadata": {},
   "outputs": [
    {
     "data": {
      "text/plain": [
       "['../../05_src/data/prices/CTAS/CTAS_2008.parquet/part.0.parquet',\n",
       " '../../05_src/data/prices/CTAS/CTAS_2018.parquet/part.0.parquet',\n",
       " '../../05_src/data/prices/CTAS/CTAS_2011.parquet/part.0.parquet',\n",
       " '../../05_src/data/prices/CTAS/CTAS_2001.parquet/part.0.parquet',\n",
       " '../../05_src/data/prices/CTAS/CTAS_2000.parquet/part.0.parquet',\n",
       " '../../05_src/data/prices/CTAS/CTAS_2010.parquet/part.0.parquet',\n",
       " '../../05_src/data/prices/CTAS/CTAS_2019.parquet/part.0.parquet',\n",
       " '../../05_src/data/prices/CTAS/CTAS_2009.parquet/part.0.parquet',\n",
       " '../../05_src/data/prices/CTAS/CTAS_2012.parquet/part.0.parquet',\n",
       " '../../05_src/data/prices/CTAS/CTAS_2002.parquet/part.0.parquet']"
      ]
     },
     "execution_count": 12,
     "metadata": {},
     "output_type": "execute_result"
    }
   ],
   "source": [
    "import os\n",
    "from glob import glob\n",
    "\n",
    "price_data_dir = os.getenv('PRICE_DATA')\n",
    "\n",
    "parquet_files = glob(os.path.join(price_data_dir, \"**/*.parquet/*.parquet\"))\n",
    "\n",
    "#  I had to limit number of files to 10, because it was taking too long to run.\n",
    "parquet_files = parquet_files[:10]\n",
    "parquet_files"
   ]
  },
  {
   "cell_type": "markdown",
   "metadata": {},
   "source": [
    "For each ticker and using Dask, do the following:\n",
    "\n",
    "+ Add lags for variables Close and Adj_Close.\n",
    "+ Add returns based on Adjusted Close:\n",
    "    \n",
    "    - `returns`: (Adj Close / Adj Close_lag) - 1\n",
    "\n",
    "+ Add the following range: \n",
    "\n",
    "    - `hi_lo_range`: this is the day's High minus Low.\n",
    "\n",
    "+ Assign the result to `dd_feat`.\n",
    "\n",
    "(4 pt)"
   ]
  },
  {
   "cell_type": "code",
   "execution_count": null,
   "metadata": {},
   "outputs": [],
   "source": [
    "# Write your code below.\n",
    "\n",
    "\n",
    "def process_data(f_path):\n",
    "    df = dd.read_parquet(f_path).set_index('ticker')\n",
    "\n",
    "    df = df.repartition(partition_size=\"10MB\")\n",
    "\n",
    "    df = (df.groupby('ticker', group_keys=False).apply(\n",
    "        lambda x: x.assign(Close_lag_1=x['Close'].shift(1))\n",
    "    ).assign(\n",
    "        Adj_Close=lambda x: x['Close']\n",
    "    ).assign(\n",
    "        Adj_Close_lag_1=lambda x: x['Adj_Close'].shift(1)\n",
    "    ).assign(\n",
    "        returns=lambda x: (x['Close'] / x['Close_lag_1']) - 1\n",
    "    ).assign(\n",
    "        hi_lo_range=lambda x: x['High'] - x['Low']\n",
    "    ))\n",
    "\n",
    "    return df\n",
    "\n",
    "dd_list = [process_data(f) for f in parquet_files]\n",
    "\n",
    "dd_f = dd.concat(dd_list)\n",
    "\n",
    "\n"
   ]
  },
  {
   "cell_type": "markdown",
   "metadata": {},
   "source": [
    "+ Convert the Dask data frame to a pandas data frame. \n",
    "+ Add a rolling average return calculation with a window of 10 days.\n",
    "+ *Tip*: Consider using `.rolling(10).mean()`.\n",
    "\n",
    "(3 pt)"
   ]
  },
  {
   "cell_type": "code",
   "execution_count": 14,
   "metadata": {},
   "outputs": [
    {
     "name": "stdout",
     "output_type": "stream",
     "text": [
      "             Date       Open       High        Low      Close  Adj Close  \\\n",
      "ticker                                                                     \n",
      "CTAS   2008-01-02  33.490002  33.619999  32.259998  32.349998  25.333313   \n",
      "CTAS   2008-01-03  32.610001  33.150002  32.509998  32.970001  25.818832   \n",
      "CTAS   2008-01-04  32.650002  32.740002  31.610001  31.610001  24.753817   \n",
      "CTAS   2008-01-07  31.620001  32.869999  31.620001  32.470001  25.427284   \n",
      "CTAS   2008-01-08  32.540001  32.590000  31.100000  31.100000  24.354439   \n",
      "\n",
      "         Volume       sector                     subsector  year  Close_lag_1  \\\n",
      "ticker                                                                          \n",
      "CTAS    1448400  Industrials  Diversified Support Services  2008          NaN   \n",
      "CTAS    1334800  Industrials  Diversified Support Services  2008    32.349998   \n",
      "CTAS    1423100  Industrials  Diversified Support Services  2008    32.970001   \n",
      "CTAS    1486500  Industrials  Diversified Support Services  2008    31.610001   \n",
      "CTAS    1557400  Industrials  Diversified Support Services  2008    32.470001   \n",
      "\n",
      "        Adj_Close  Adj_Close_lag_1   returns  hi_lo_range  rolling_avg_return  \n",
      "ticker                                                                         \n",
      "CTAS    32.349998              NaN       NaN     1.360001                 NaN  \n",
      "CTAS    32.970001        32.349998  0.019165     0.640003                 NaN  \n",
      "CTAS    31.610001        32.970001 -0.041250     1.130001                 NaN  \n",
      "CTAS    32.470001        31.610001  0.027207     1.249998                 NaN  \n",
      "CTAS    31.100000        32.470001 -0.042193     1.490000                 NaN  \n"
     ]
    }
   ],
   "source": [
    "# Write your code below.\n",
    "\n",
    "\n",
    "dd_f = dd_f.compute()\n",
    "\n",
    "dd_f['rolling_avg_return'] = dd_f.groupby('ticker')['returns'].transform(lambda x: x.rolling(window=10).mean())\n",
    "\n",
    "print(dd_f.head())  # To inspect the result"
   ]
  },
  {
   "cell_type": "markdown",
   "metadata": {},
   "source": [
    "Please comment:\n",
    "\n",
    "+ Was it necessary to convert to pandas to calculate the moving average return?\n",
    "No, it is not necessary. Dask can  handle it as well. Converting to pandas might be required if the dataset is small and fits into memory, but for larger dataset dask would be preferable.\n",
    "\n",
    "Would it have been better to do it in Dask? Why?\n",
    "\n",
    "Yes, dask would perform better large data sets\n",
    "Pros:\n",
    "Dask is able to split big data set in a smaler chanks and run it in paralel \n",
    "Dask uses lazy evaluation, which means that it builds a task graph of the operations and executes them only when needed\n",
    "Keeping the computation within Dask we avoid potential issues of converting back and forth and keep workflow consistent.\n",
    "\n",
    "(1 pt)"
   ]
  },
  {
   "cell_type": "markdown",
   "metadata": {},
   "source": [
    "## Criteria\n",
    "\n",
    "|Criteria|Complete|Incomplete|\n",
    "|---------------------|----|----|\n",
    "|Calculations         |Calculations were done correctly.|Calculations were not done correctly.|\n",
    "|Explanation of answer|Answer was concise and explained the learner's reasoning in depth.|Answer was not concise and did not explained the learner's reasoning in depth.|"
   ]
  },
  {
   "cell_type": "markdown",
   "metadata": {},
   "source": [
    "## Submission Information\n",
    "\n",
    "🚨 **Please review our [Assignment Submission Guide](https://github.com/UofT-DSI/onboarding/blob/main/onboarding_documents/submissions.md)** 🚨 for detailed instructions on how to format, branch, and submit your work. Following these guidelines is crucial for your submissions to be evaluated correctly.\n",
    "\n",
    "### Submission Parameters:\n",
    "* Submission Due Date: `HH:MM AM/PM - DD/MM/YYYY`\n",
    "* The branch name for your repo should be: `assignment-1`\n",
    "* What to submit for this assignment:\n",
    "    * This Jupyter Notebook (assignment_1.ipynb) should be populated and should be the only change in your pull request.\n",
    "* What the pull request link should look like for this assignment: `https://github.com/<your_github_username>/production/pull/<pr_id>`\n",
    "    * Open a private window in your browser. Copy and paste the link to your pull request into the address bar. Make sure you can see your pull request properly. This helps the technical facilitator and learning support staff review your submission easily.\n",
    "\n",
    "Checklist:\n",
    "- [ ] Created a branch with the correct naming convention.\n",
    "- [ ] Ensured that the repository is public.\n",
    "- [ ] Reviewed the PR description guidelines and adhered to them.\n",
    "- [ ] Verify that the link is accessible in a private browser window.\n",
    "\n",
    "If you encounter any difficulties or have questions, please don't hesitate to reach out to our team via our Slack at `#cohort-3-help`. Our Technical Facilitators and Learning Support staff are here to help you navigate any challenges."
   ]
  }
 ],
 "metadata": {
  "kernelspec": {
   "display_name": "env",
   "language": "python",
   "name": "python3"
  },
  "language_info": {
   "codemirror_mode": {
    "name": "ipython",
    "version": 3
   },
   "file_extension": ".py",
   "mimetype": "text/x-python",
   "name": "python",
   "nbconvert_exporter": "python",
   "pygments_lexer": "ipython3",
   "version": "3.9.18"
  }
 },
 "nbformat": 4,
 "nbformat_minor": 2
}
